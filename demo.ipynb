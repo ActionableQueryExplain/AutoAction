{
 "cells": [
  {
   "cell_type": "code",
   "execution_count": 1,
   "metadata": {},
   "outputs": [],
   "source": [
    "from wrapper import autoaction_demo\n",
    "#dataset candidates: {'adult','student','credit100k','credit1m'}\n",
    "#constraint configurations: {'one','two','default'}"
   ]
  },
  {
   "cell_type": "code",
   "execution_count": 2,
   "metadata": {},
   "outputs": [
    {
     "name": "stdout",
     "output_type": "stream",
     "text": [
      "training prediction model...\n",
      "Model training start...\n",
      "The model is fit. The prediction score is 0.8435551733669113\n",
      "Start autoAction...\n",
      "=================\n",
      "action generated.\n",
      "For the group, workclass is  Without-pay, occupation is  Farming-fishing\n",
      "Take the action, increase hours-per-week by 0.83, increase education-num by 0.56\n",
      "=================\n",
      "=================\n",
      "action generated.\n",
      "For the group, workclass is  Without-pay, occupation is  Handlers-cleaners\n",
      "Take the action, increase hours-per-week by 1.00, increase education-num by 0.02\n",
      "=================\n",
      "=================\n",
      "action generated.\n",
      "For the group, workclass is  Federal-gov, occupation is  Handlers-cleaners\n",
      "Take the action, increase hours-per-week by 1.50, increase education-num by 0.99\n",
      "=================\n",
      "=================\n",
      "action generated.\n",
      "For the group, workclass is  Self-emp-not-inc, occupation is  Prof-specialty\n",
      "Take the action, increase hours-per-week by 2.50, increase education-num by 1.55\n",
      "=================\n",
      "=================\n",
      "action generated.\n",
      "For the group, workclass is  Without-pay, occupation is  Farming-fishing\n",
      "Take the action, increase hours-per-week by 0.60, increase education-num by 0.80\n",
      "=================\n",
      "The best action generated so far is suggested: \n",
      "For the group, workclass is  Self-emp-not-inc, occupation is  Prof-specialty\n",
      "Take the action, increase hours-per-week by 2.50, increase education-num by 1.55\n"
     ]
    }
   ],
   "source": [
    "ad = autoaction_demo(ds_config = 'adult', time = 60)\n",
    "ad.run()"
   ]
  },
  {
   "cell_type": "code",
   "execution_count": null,
   "metadata": {},
   "outputs": [],
   "source": []
  }
 ],
 "metadata": {
  "kernelspec": {
   "display_name": "Python 3",
   "language": "python",
   "name": "python3"
  },
  "language_info": {
   "codemirror_mode": {
    "name": "ipython",
    "version": 3
   },
   "file_extension": ".py",
   "mimetype": "text/x-python",
   "name": "python",
   "nbconvert_exporter": "python",
   "pygments_lexer": "ipython3",
   "version": "3.7.3"
  }
 },
 "nbformat": 4,
 "nbformat_minor": 4
}
