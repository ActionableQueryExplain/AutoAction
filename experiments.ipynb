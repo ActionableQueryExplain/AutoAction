{
 "cells": [
  {
   "cell_type": "markdown",
   "metadata": {},
   "source": [
    "## Setup"
   ]
  },
  {
   "cell_type": "code",
   "execution_count": 1,
   "metadata": {},
   "outputs": [],
   "source": [
    "from autoaction import autoAction\n",
    "from dataConfig import dataLoader\n",
    "from baselines import random_search, hyperband\n",
    "#dataset candidates: {'adult','student','credit100k','credit1m'}\n",
    "#constraint configurations: {'one','two','default'}"
   ]
  },
  {
   "cell_type": "markdown",
   "metadata": {},
   "source": [
    "## Varying R for autoAction"
   ]
  },
  {
   "cell_type": "code",
   "execution_count": 2,
   "metadata": {},
   "outputs": [
    {
     "name": "stdout",
     "output_type": "stream",
     "text": [
      "Model training start...\n",
      "The model is fit. The prediction score is 1.0\n",
      "Start autoAction...\n",
      "Start autoAction...\n",
      "The average score under 60s is -61.156479966596976\n"
     ]
    }
   ],
   "source": [
    "from wrapper import budget_tuner\n",
    "\n",
    "bt = budget_tuner(R = 20, ds_config = 'credit100k', trials = 2, time = 60)\n",
    "bt.run()"
   ]
  },
  {
   "cell_type": "markdown",
   "metadata": {},
   "source": [
    "## Supporting Constraints"
   ]
  },
  {
   "cell_type": "code",
   "execution_count": 4,
   "metadata": {},
   "outputs": [
    {
     "name": "stdout",
     "output_type": "stream",
     "text": [
      "training prediction model...\n",
      "Model training start...\n",
      "The model is fit. The prediction score is 0.8433094806670557\n",
      "Start autoAction...\n",
      "Start autoAction...\n",
      "Start autoAction...\n",
      "Start autoAction...\n",
      "The average score under 30s for post verify is -1.5509404424040114\n",
      "The average score under 40s for post verify is -1.5509404424040114\n",
      "The average score under 50s for post verify is -6.945884572343196\n",
      "The average score under 60s for post verify is -29.672632734489117\n",
      "The average score under 70s for post verify is -29.672632734489117\n",
      "The average score under 80s for post verify is -29.672632734489117\n",
      "The average score under 90s for post verify is -29.672632734489117\n",
      "----------------------------------\n",
      "The average score under 30s for autoaction is -1.0747550453232106\n",
      "The average score under 40s for autoaction is -2.625684027899889\n",
      "The average score under 50s for autoaction is -100.71668786869961\n",
      "The average score under 60s for autoaction is -100.88417907250029\n",
      "The average score under 70s for autoaction is -101.57385321114474\n",
      "The average score under 80s for autoaction is -101.57385321114474\n",
      "The average score under 90s for autoaction is -101.57385321114474\n"
     ]
    }
   ],
   "source": [
    "from wrapper import constraint_executer\n",
    "\n",
    "ce = constraint_executer(ds_config = 'adult', trials = 2, times = [30,40,50,60,70,80,90],constraint_setting=\"default\")\n",
    "ce.run()"
   ]
  },
  {
   "cell_type": "markdown",
   "metadata": {},
   "source": [
    "## Comparision between search algorithms"
   ]
  },
  {
   "cell_type": "code",
   "execution_count": 5,
   "metadata": {},
   "outputs": [
    {
     "name": "stdout",
     "output_type": "stream",
     "text": [
      "training prediction model...\n",
      "Model training start...\n",
      "The model is fit. The prediction score is 0.8434016154295015\n",
      "Start Random Search...\n",
      "Start autoAction...\n",
      "Start Random Search...\n",
      "Start autoAction...\n",
      "The average score under 30s for random search is 0.0\n",
      "The average score under 40s for random search is -0.544108903611525\n",
      "The average score under 50s for random search is -0.544108903611525\n",
      "The average score under 60s for random search is -0.544108903611525\n",
      "The average score under 70s for random search is -0.544108903611525\n",
      "The average score under 80s for random search is -0.544108903611525\n",
      "The average score under 90s for random search is -0.544108903611525\n",
      "----------------------------------\n",
      "The average score under 30s for autoaction is 0.0\n",
      "The average score under 40s for autoaction is -121.47447740123513\n",
      "The average score under 50s for autoaction is -121.47447740123513\n",
      "The average score under 60s for autoaction is -121.47447740123513\n",
      "The average score under 70s for autoaction is -121.47447740123513\n",
      "The average score under 80s for autoaction is -121.47447740123513\n",
      "The average score under 90s for autoaction is -121.47447740123513\n"
     ]
    }
   ],
   "source": [
    "from wrapper import search_executer\n",
    "\n",
    "se = search_executer(ds_config = 'adult', trials = 2, times = [30,40,50,60,70,80,90])\n",
    "se.run()"
   ]
  },
  {
   "cell_type": "markdown",
   "metadata": {},
   "source": [
    "## Single round Hyperband"
   ]
  },
  {
   "cell_type": "code",
   "execution_count": 6,
   "metadata": {},
   "outputs": [
    {
     "name": "stdout",
     "output_type": "stream",
     "text": [
      "training prediction model...\n",
      "Model training start...\n",
      "The model is fit. The prediction score is 0.8440158471791407\n",
      "Start Single Round Hyperband...\n",
      "Start Single Round Hyperband...\n",
      "The average time under budget 25 for single round Hyperband is 74.29403340816498\n",
      "The average score under budget 25 for single round Hyperband is -110.29767972821408\n"
     ]
    }
   ],
   "source": [
    "from wrapper import sround_hyperband\n",
    "\n",
    "sh = sround_hyperband(ds_config = 'adult', trials = 2, R = 25)\n",
    "sh.run()"
   ]
  },
  {
   "cell_type": "code",
   "execution_count": null,
   "metadata": {},
   "outputs": [],
   "source": []
  }
 ],
 "metadata": {
  "kernelspec": {
   "display_name": "Python 3",
   "language": "python",
   "name": "python3"
  },
  "language_info": {
   "codemirror_mode": {
    "name": "ipython",
    "version": 3
   },
   "file_extension": ".py",
   "mimetype": "text/x-python",
   "name": "python",
   "nbconvert_exporter": "python",
   "pygments_lexer": "ipython3",
   "version": "3.7.3"
  }
 },
 "nbformat": 4,
 "nbformat_minor": 4
}
